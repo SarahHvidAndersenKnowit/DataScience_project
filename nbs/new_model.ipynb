{
 "cells": [
  {
   "cell_type": "code",
   "execution_count": 1,
   "metadata": {
    "metadata": {}
   },
   "outputs": [],
   "source": [
    "import pandas as pd \n",
    "import numpy as np\n",
    "import os\n",
    "from joblib import dump\n",
    "import pickle as pkl\n",
    "import pickle\n",
    "import itertools\n",
    "\n",
    "import seaborn as sns\n",
    "import matplotlib.pyplot as plt\n",
    "import matplotlib.image as mpimg\n",
    "\n",
    "from sklearn.metrics import accuracy_score, roc_auc_score, classification_report, precision_recall_curve\n",
    "from sklearn.metrics import make_scorer, fbeta_score,  mean_squared_error, r2_score, f1_score\n",
    "from sklearn.metrics import (accuracy_score, precision_score, recall_score, f1_score,\n",
    "                             roc_auc_score, precision_recall_curve, classification_report, confusion_matrix)\n",
    "from sklearn.linear_model import LogisticRegression\n",
    "from sklearn.dummy import DummyClassifier\n",
    "from sklearn.neighbors import KNeighborsClassifier\n",
    "from sklearn.ensemble import RandomForestClassifier\n",
    "from sklearn.feature_selection import RFECV\n",
    "from sklearn.model_selection import StratifiedKFold, RandomizedSearchCV, GridSearchCV, train_test_split, StratifiedShuffleSplit\n",
    "from sklearn import datasets\n",
    "from sklearn.neighbors import KNeighborsRegressor\n",
    "from sklearn.linear_model import LinearRegression\n",
    "from sklearn.preprocessing import StandardScaler\n",
    "from sklearn import svm\n",
    "from sklearn.svm import SVC\n",
    "from sklearn.inspection import permutation_importance\n",
    "\n",
    "import xgboost as xgb\n",
    "from xgboost import XGBClassifier, plot_importance"
   ]
  },
  {
   "cell_type": "markdown",
   "metadata": {},
   "source": [
    "recover; initial model generation and plot comparison, robertas code\n",
    "running the final models, with eval threshold\n",
    "compare test results in the end"
   ]
  },
  {
   "cell_type": "code",
   "execution_count": 14,
   "metadata": {
    "metadata": {}
   },
   "outputs": [],
   "source": [
    "train_df = pd.read_csv('/work/SarahHvidAndersen#6681/DataScience_project/data/train_df.csv')\n",
    "eval_df = pd.read_csv('/work/SarahHvidAndersen#6681/DataScience_project/data/eval_df.csv')\n",
    "test_df = pd.read_csv('/work/SarahHvidAndersen#6681/DataScience_project/data/test_df.csv')\n",
    "\n",
    "selected_features = ['Fwd IAT Total', 'Fwd Packet Length Max',\n",
    "        'Bwd Packet Length Mean', 'Bwd Packet Length Std',\n",
    "        'Bwd Packets Length Total', 'Bwd Packet Length Max',\n",
    "        'Packet Length Max', 'Packet Length Mean', 'Packet Length Std',\n",
    "        'Packet Length Variance', 'Avg Packet Size', 'Fwd Header Length',\n",
    "        'Avg Fwd Segment Size', 'Avg Bwd Segment Size']\n",
    "\n",
    "X_train = train_df[selected_features]  # Features from the training data\n",
    "y_train = train_df['Attack'] \n",
    "\n",
    "X_eval = eval_df[selected_features]  # Features from the evaluation data\n",
    "y_eval = eval_df['Attack']\n",
    "\n",
    "X_test = test_df[selected_features]\n",
    "y_test = test_df['Attack']"
   ]
  },
  {
   "cell_type": "code",
   "execution_count": 3,
   "metadata": {
    "metadata": {}
   },
   "outputs": [
    {
     "name": "stderr",
     "output_type": "stream",
     "text": [
      "/tmp/ipykernel_34265/809619830.py:5: SettingWithCopyWarning: \n",
      "A value is trying to be set on a copy of a slice from a DataFrame.\n",
      "Try using .loc[row_indexer,col_indexer] = value instead\n",
      "\n",
      "See the caveats in the documentation: https://pandas.pydata.org/pandas-docs/stable/user_guide/indexing.html#returning-a-view-versus-a-copy\n",
      "  X_train[X_train.columns] = scaler.fit_transform(X_train[X_train.columns])\n",
      "/tmp/ipykernel_34265/809619830.py:8: SettingWithCopyWarning: \n",
      "A value is trying to be set on a copy of a slice from a DataFrame.\n",
      "Try using .loc[row_indexer,col_indexer] = value instead\n",
      "\n",
      "See the caveats in the documentation: https://pandas.pydata.org/pandas-docs/stable/user_guide/indexing.html#returning-a-view-versus-a-copy\n",
      "  X_eval[X_eval.columns] = scaler.transform(X_eval[X_eval.columns])\n",
      "/tmp/ipykernel_34265/809619830.py:9: SettingWithCopyWarning: \n",
      "A value is trying to be set on a copy of a slice from a DataFrame.\n",
      "Try using .loc[row_indexer,col_indexer] = value instead\n",
      "\n",
      "See the caveats in the documentation: https://pandas.pydata.org/pandas-docs/stable/user_guide/indexing.html#returning-a-view-versus-a-copy\n",
      "  X_test[X_test.columns] = scaler.transform(X_test[X_test.columns])\n"
     ]
    }
   ],
   "source": [
    "# Initialize scaler\n",
    "scaler = StandardScaler()\n",
    "\n",
    "# Scale the features\n",
    "X_train[X_train.columns] = scaler.fit_transform(X_train[X_train.columns])\n",
    "\n",
    "# Applying the 'trained' scaler on eval and test\n",
    "X_eval[X_eval.columns] = scaler.transform(X_eval[X_eval.columns])\n",
    "X_test[X_test.columns] = scaler.transform(X_test[X_test.columns])"
   ]
  },
  {
   "cell_type": "markdown",
   "metadata": {},
   "source": [
    "# baseline models"
   ]
  },
  {
   "cell_type": "code",
   "execution_count": 20,
   "metadata": {
    "metadata": {}
   },
   "outputs": [],
   "source": [
    "def run_on_splits(func):\n",
    "    def _run_loop(model, model_name):\n",
    "        for X, y, nsplit in zip([X_train, X_eval], \n",
    "                                [y_train, y_eval],  \n",
    "                                ['train', 'val']):\n",
    "            func(model, X=X, y=y, nsplit=nsplit, model_name=model_name, beta=2)  # F2 score optimization\n",
    "    return _run_loop"
   ]
  },
  {
   "cell_type": "code",
   "execution_count": 21,
   "metadata": {
    "metadata": {}
   },
   "outputs": [
    {
     "data": {
      "text/plain": [
       "'\\ndef load_and_evaluate(model_filename, model_name):\\nmodel = load(model_filename)\\nevaluate(model, model_name=model_name)\\n'"
      ]
     },
     "execution_count": 21,
     "metadata": {},
     "output_type": "execute_result"
    }
   ],
   "source": [
    "@run_on_splits\n",
    "def evaluate_splits(model, X, y, nsplit, model_name, beta=2):\n",
    "    probabilities = model.predict_proba(X)[:, 1]\n",
    "    precision, recall, thresholds = precision_recall_curve(y, probabilities)\n",
    "\n",
    "    # Calculating F scores for the given beta\n",
    "    f_scores = (1 + beta**2) * (precision * recall) / (beta**2 * precision + recall)\n",
    "    best_idx = np.nanargmax(f_scores)  # Using nanargmax to ignore NaNs in the calculation\n",
    "    best_threshold = thresholds[best_idx]\n",
    "\n",
    "    predictions = (probabilities >= best_threshold).astype(int)\n",
    "\n",
    "    # Calculate metrics\n",
    "    acc = accuracy_score(y, predictions)\n",
    "    prec = precision_score(y, predictions, zero_division=0)  # Handle zero division case\n",
    "    rec = recall_score(y, predictions, zero_division=0)\n",
    "    f1 = f1_score(y, predictions)\n",
    "    f2 = (1 + 2**2) * (prec * rec) / ((2**2 * prec) + rec)\n",
    "    roc_auc = roc_auc_score(y, probabilities) \n",
    "\n",
    "    # Store performances\n",
    "    performances.append({\n",
    "        'model': model_name,\n",
    "        'split': nsplit,\n",
    "        'threshold': best_threshold,\n",
    "        'accuracy': acc,'precision': prec,'recall': rec,'f1': f1,\n",
    "        'f2': f2,'roc_auc': roc_auc,'beta': beta})\n",
    "\n",
    "    if nsplit == 'val':\n",
    "        report = classification_report(y, predictions)\n",
    "        cm = confusion_matrix(y, predictions)\n",
    "\n",
    "        # Save the classification report as TXT\n",
    "        report_path = f'../output/first_evaluation/{model_name}_classification_report.txt'\n",
    "        with open(report_path, 'w') as f:\n",
    "            f.write(report)\n",
    "\n",
    "        # Generate and save onfusion matrix as JPEG\n",
    "        fig, ax = plt.subplots(figsize=(4, 4))\n",
    "        sns.heatmap(cm, annot=True, fmt='d', cmap='Blues', ax=ax, cbar=False)\n",
    "        ax.set_title(f'Confusion Matrix for {model_name}')\n",
    "        ax.set_xlabel('Predicted Labels')\n",
    "        ax.set_ylabel('True Labels')\n",
    "        ax.set_xticklabels(['Negative', 'Positive'])\n",
    "        ax.set_yticklabels(['Negative', 'Positive'])\n",
    "        plt.tight_layout()\n",
    "        \n",
    "        matrix_path = f'../output/first_evalutation/{model_name}_confusion_matrix.jpeg'\n",
    "        plt.savefig(matrix_path)\n",
    "        plt.close(fig)\n",
    "        print(f\"Saved confusion matrix for {model_name} at {matrix_path}\")\n",
    "    return\n",
    "\n",
    "\"\"\"\n",
    "def load_and_evaluate(model_filename, model_name):\n",
    "model = load(model_filename)\n",
    "evaluate(model, model_name=model_name)\n",
    "\"\"\""
   ]
  },
  {
   "cell_type": "code",
   "execution_count": null,
   "metadata": {},
   "outputs": [],
   "source": [
    "def train_and_save(model, X_train, y_train, filename):\n",
    "    \"\"\"Train a model and save it.\"\"\"\n",
    "    model.fit(X_train, y_train)\n",
    "    dump(model, filename)\n",
    "    return model"
   ]
  },
  {
   "cell_type": "code",
   "execution_count": 6,
   "metadata": {
    "metadata": {}
   },
   "outputs": [],
   "source": [
    "# specify baseline models, with tuning from gridsearch\n",
    "models = {\n",
    "    'Dummy_Classifier': DummyClassifier(strategy='most_frequent', random_state=42),\n",
    "    'Baseline_log_reg': LogisticRegression(max_iter=1000, random_state=42),\n",
    "    'Baseline_SVM': svm.SVC(kernel='linear', probability=True, random_state=42),\n",
    "    'Baseline_KNN': KNeighborsClassifier(n_neighbors=10),\n",
    "    'Baseline_RF': RandomForestClassifier(n_estimators=100, random_state=42),\n",
    "    'Tuned_RF': RandomForestClassifier(n_estimators=110, max_depth=40, min_samples_leaf=1, min_samples_split=10, random_state=42),\n",
    "    'Baseline_XGB': XGBClassifier(objective='binary:logistic', use_label_encoder=False, eval_metric='logloss'),\n",
    "    'Tuned_XGB': XGBClassifier(objective='binary:logistic', use_label_encoder=False, colsample_bytree=1.0, gamma=0.5, learning_rate=0.3, max_depth=10, n_estimators=350, subsample=0.5, eval_metric='logloss')\n",
    "}\n",
    "\n",
    "trained_models = {}  # Dictionary to store trained model references\n",
    "\n",
    "for name, model in models.items():\n",
    "    trained_model = train_and_save(model, X_train, y_train, f'../models/first_models/{name}.joblib')\n",
    "    trained_models[name] = trained_model  # Store the trained model for later use\n"
   ]
  },
  {
   "cell_type": "code",
   "execution_count": 22,
   "metadata": {
    "metadata": {}
   },
   "outputs": [
    {
     "name": "stderr",
     "output_type": "stream",
     "text": [
      "/work/SarahHvidAndersen#6681/env/lib/python3.12/site-packages/sklearn/metrics/_classification.py:1509: UndefinedMetricWarning: Precision is ill-defined and being set to 0.0 in labels with no predicted samples. Use `zero_division` parameter to control this behavior.\n",
      "  _warn_prf(average, modifier, f\"{metric.capitalize()} is\", len(result))\n",
      "/work/SarahHvidAndersen#6681/env/lib/python3.12/site-packages/sklearn/metrics/_classification.py:1509: UndefinedMetricWarning: Precision is ill-defined and being set to 0.0 in labels with no predicted samples. Use `zero_division` parameter to control this behavior.\n",
      "  _warn_prf(average, modifier, f\"{metric.capitalize()} is\", len(result))\n",
      "/work/SarahHvidAndersen#6681/env/lib/python3.12/site-packages/sklearn/metrics/_classification.py:1509: UndefinedMetricWarning: Precision is ill-defined and being set to 0.0 in labels with no predicted samples. Use `zero_division` parameter to control this behavior.\n",
      "  _warn_prf(average, modifier, f\"{metric.capitalize()} is\", len(result))\n"
     ]
    },
    {
     "ename": "FileNotFoundError",
     "evalue": "[Errno 2] No such file or directory: '/work/SarahHvidAndersen#6681/DataScience_project/output/first_evalutation/Dummy_Classifier_confusion_matrix.jpeg'",
     "output_type": "error",
     "traceback": [
      "\u001b[0;31m---------------------------------------------------------------------------\u001b[0m",
      "\u001b[0;31mFileNotFoundError\u001b[0m                         Traceback (most recent call last)",
      "Cell \u001b[0;32mIn[22], line 4\u001b[0m\n\u001b[1;32m      1\u001b[0m performances \u001b[38;5;241m=\u001b[39m []  \u001b[38;5;66;03m# To store performance results\u001b[39;00m\n\u001b[1;32m      3\u001b[0m \u001b[38;5;28;01mfor\u001b[39;00m name, model \u001b[38;5;129;01min\u001b[39;00m trained_models\u001b[38;5;241m.\u001b[39mitems():\n\u001b[0;32m----> 4\u001b[0m     \u001b[43mevaluate_splits\u001b[49m\u001b[43m(\u001b[49m\u001b[43mmodel\u001b[49m\u001b[43m,\u001b[49m\u001b[43m \u001b[49m\u001b[43mmodel_name\u001b[49m\u001b[38;5;241;43m=\u001b[39;49m\u001b[43mname\u001b[49m\u001b[43m)\u001b[49m\n",
      "Cell \u001b[0;32mIn[20], line 6\u001b[0m, in \u001b[0;36mrun_on_splits.<locals>._run_loop\u001b[0;34m(model, model_name)\u001b[0m\n\u001b[1;32m      2\u001b[0m \u001b[38;5;28;01mdef\u001b[39;00m \u001b[38;5;21m_run_loop\u001b[39m(model, model_name):\n\u001b[1;32m      3\u001b[0m     \u001b[38;5;28;01mfor\u001b[39;00m X, y, nsplit \u001b[38;5;129;01min\u001b[39;00m \u001b[38;5;28mzip\u001b[39m([X_train, X_eval], \n\u001b[1;32m      4\u001b[0m                             [y_train, y_eval],  \n\u001b[1;32m      5\u001b[0m                             [\u001b[38;5;124m'\u001b[39m\u001b[38;5;124mtrain\u001b[39m\u001b[38;5;124m'\u001b[39m, \u001b[38;5;124m'\u001b[39m\u001b[38;5;124mval\u001b[39m\u001b[38;5;124m'\u001b[39m]):\n\u001b[0;32m----> 6\u001b[0m         \u001b[43mfunc\u001b[49m\u001b[43m(\u001b[49m\u001b[43mmodel\u001b[49m\u001b[43m,\u001b[49m\u001b[43m \u001b[49m\u001b[43mX\u001b[49m\u001b[38;5;241;43m=\u001b[39;49m\u001b[43mX\u001b[49m\u001b[43m,\u001b[49m\u001b[43m \u001b[49m\u001b[43my\u001b[49m\u001b[38;5;241;43m=\u001b[39;49m\u001b[43my\u001b[49m\u001b[43m,\u001b[49m\u001b[43m \u001b[49m\u001b[43mnsplit\u001b[49m\u001b[38;5;241;43m=\u001b[39;49m\u001b[43mnsplit\u001b[49m\u001b[43m,\u001b[49m\u001b[43m \u001b[49m\u001b[43mmodel_name\u001b[49m\u001b[38;5;241;43m=\u001b[39;49m\u001b[43mmodel_name\u001b[49m\u001b[43m,\u001b[49m\u001b[43m \u001b[49m\u001b[43mbeta\u001b[49m\u001b[38;5;241;43m=\u001b[39;49m\u001b[38;5;241;43m2\u001b[39;49m\u001b[43m)\u001b[49m\n",
      "Cell \u001b[0;32mIn[21], line 49\u001b[0m, in \u001b[0;36mevaluate_splits\u001b[0;34m(model, X, y, nsplit, model_name, beta)\u001b[0m\n\u001b[1;32m     46\u001b[0m plt\u001b[38;5;241m.\u001b[39mtight_layout()\n\u001b[1;32m     48\u001b[0m matrix_path \u001b[38;5;241m=\u001b[39m \u001b[38;5;124mf\u001b[39m\u001b[38;5;124m'\u001b[39m\u001b[38;5;124m../output/first_evalutation/\u001b[39m\u001b[38;5;132;01m{\u001b[39;00mmodel_name\u001b[38;5;132;01m}\u001b[39;00m\u001b[38;5;124m_confusion_matrix.jpeg\u001b[39m\u001b[38;5;124m'\u001b[39m\n\u001b[0;32m---> 49\u001b[0m \u001b[43mplt\u001b[49m\u001b[38;5;241;43m.\u001b[39;49m\u001b[43msavefig\u001b[49m\u001b[43m(\u001b[49m\u001b[43mmatrix_path\u001b[49m\u001b[43m)\u001b[49m\n\u001b[1;32m     50\u001b[0m plt\u001b[38;5;241m.\u001b[39mclose(fig)\n\u001b[1;32m     51\u001b[0m \u001b[38;5;28mprint\u001b[39m(\u001b[38;5;124mf\u001b[39m\u001b[38;5;124m\"\u001b[39m\u001b[38;5;124mSaved confusion matrix for \u001b[39m\u001b[38;5;132;01m{\u001b[39;00mmodel_name\u001b[38;5;132;01m}\u001b[39;00m\u001b[38;5;124m at \u001b[39m\u001b[38;5;132;01m{\u001b[39;00mmatrix_path\u001b[38;5;132;01m}\u001b[39;00m\u001b[38;5;124m\"\u001b[39m)\n",
      "File \u001b[0;32m/work/SarahHvidAndersen#6681/env/lib/python3.12/site-packages/matplotlib/pyplot.py:1134\u001b[0m, in \u001b[0;36msavefig\u001b[0;34m(*args, **kwargs)\u001b[0m\n\u001b[1;32m   1131\u001b[0m fig \u001b[38;5;241m=\u001b[39m gcf()\n\u001b[1;32m   1132\u001b[0m \u001b[38;5;66;03m# savefig default implementation has no return, so mypy is unhappy\u001b[39;00m\n\u001b[1;32m   1133\u001b[0m \u001b[38;5;66;03m# presumably this is here because subclasses can return?\u001b[39;00m\n\u001b[0;32m-> 1134\u001b[0m res \u001b[38;5;241m=\u001b[39m \u001b[43mfig\u001b[49m\u001b[38;5;241;43m.\u001b[39;49m\u001b[43msavefig\u001b[49m\u001b[43m(\u001b[49m\u001b[38;5;241;43m*\u001b[39;49m\u001b[43margs\u001b[49m\u001b[43m,\u001b[49m\u001b[43m \u001b[49m\u001b[38;5;241;43m*\u001b[39;49m\u001b[38;5;241;43m*\u001b[39;49m\u001b[43mkwargs\u001b[49m\u001b[43m)\u001b[49m  \u001b[38;5;66;03m# type: ignore[func-returns-value]\u001b[39;00m\n\u001b[1;32m   1135\u001b[0m fig\u001b[38;5;241m.\u001b[39mcanvas\u001b[38;5;241m.\u001b[39mdraw_idle()  \u001b[38;5;66;03m# Need this if 'transparent=True', to reset colors.\u001b[39;00m\n\u001b[1;32m   1136\u001b[0m \u001b[38;5;28;01mreturn\u001b[39;00m res\n",
      "File \u001b[0;32m/work/SarahHvidAndersen#6681/env/lib/python3.12/site-packages/matplotlib/figure.py:3390\u001b[0m, in \u001b[0;36mFigure.savefig\u001b[0;34m(self, fname, transparent, **kwargs)\u001b[0m\n\u001b[1;32m   3388\u001b[0m     \u001b[38;5;28;01mfor\u001b[39;00m ax \u001b[38;5;129;01min\u001b[39;00m \u001b[38;5;28mself\u001b[39m\u001b[38;5;241m.\u001b[39maxes:\n\u001b[1;32m   3389\u001b[0m         _recursively_make_axes_transparent(stack, ax)\n\u001b[0;32m-> 3390\u001b[0m \u001b[38;5;28;43mself\u001b[39;49m\u001b[38;5;241;43m.\u001b[39;49m\u001b[43mcanvas\u001b[49m\u001b[38;5;241;43m.\u001b[39;49m\u001b[43mprint_figure\u001b[49m\u001b[43m(\u001b[49m\u001b[43mfname\u001b[49m\u001b[43m,\u001b[49m\u001b[43m \u001b[49m\u001b[38;5;241;43m*\u001b[39;49m\u001b[38;5;241;43m*\u001b[39;49m\u001b[43mkwargs\u001b[49m\u001b[43m)\u001b[49m\n",
      "File \u001b[0;32m/work/SarahHvidAndersen#6681/env/lib/python3.12/site-packages/matplotlib/backend_bases.py:2193\u001b[0m, in \u001b[0;36mFigureCanvasBase.print_figure\u001b[0;34m(self, filename, dpi, facecolor, edgecolor, orientation, format, bbox_inches, pad_inches, bbox_extra_artists, backend, **kwargs)\u001b[0m\n\u001b[1;32m   2189\u001b[0m \u001b[38;5;28;01mtry\u001b[39;00m:\n\u001b[1;32m   2190\u001b[0m     \u001b[38;5;66;03m# _get_renderer may change the figure dpi (as vector formats\u001b[39;00m\n\u001b[1;32m   2191\u001b[0m     \u001b[38;5;66;03m# force the figure dpi to 72), so we need to set it again here.\u001b[39;00m\n\u001b[1;32m   2192\u001b[0m     \u001b[38;5;28;01mwith\u001b[39;00m cbook\u001b[38;5;241m.\u001b[39m_setattr_cm(\u001b[38;5;28mself\u001b[39m\u001b[38;5;241m.\u001b[39mfigure, dpi\u001b[38;5;241m=\u001b[39mdpi):\n\u001b[0;32m-> 2193\u001b[0m         result \u001b[38;5;241m=\u001b[39m \u001b[43mprint_method\u001b[49m\u001b[43m(\u001b[49m\n\u001b[1;32m   2194\u001b[0m \u001b[43m            \u001b[49m\u001b[43mfilename\u001b[49m\u001b[43m,\u001b[49m\n\u001b[1;32m   2195\u001b[0m \u001b[43m            \u001b[49m\u001b[43mfacecolor\u001b[49m\u001b[38;5;241;43m=\u001b[39;49m\u001b[43mfacecolor\u001b[49m\u001b[43m,\u001b[49m\n\u001b[1;32m   2196\u001b[0m \u001b[43m            \u001b[49m\u001b[43medgecolor\u001b[49m\u001b[38;5;241;43m=\u001b[39;49m\u001b[43medgecolor\u001b[49m\u001b[43m,\u001b[49m\n\u001b[1;32m   2197\u001b[0m \u001b[43m            \u001b[49m\u001b[43morientation\u001b[49m\u001b[38;5;241;43m=\u001b[39;49m\u001b[43morientation\u001b[49m\u001b[43m,\u001b[49m\n\u001b[1;32m   2198\u001b[0m \u001b[43m            \u001b[49m\u001b[43mbbox_inches_restore\u001b[49m\u001b[38;5;241;43m=\u001b[39;49m\u001b[43m_bbox_inches_restore\u001b[49m\u001b[43m,\u001b[49m\n\u001b[1;32m   2199\u001b[0m \u001b[43m            \u001b[49m\u001b[38;5;241;43m*\u001b[39;49m\u001b[38;5;241;43m*\u001b[39;49m\u001b[43mkwargs\u001b[49m\u001b[43m)\u001b[49m\n\u001b[1;32m   2200\u001b[0m \u001b[38;5;28;01mfinally\u001b[39;00m:\n\u001b[1;32m   2201\u001b[0m     \u001b[38;5;28;01mif\u001b[39;00m bbox_inches \u001b[38;5;129;01mand\u001b[39;00m restore_bbox:\n",
      "File \u001b[0;32m/work/SarahHvidAndersen#6681/env/lib/python3.12/site-packages/matplotlib/backend_bases.py:2043\u001b[0m, in \u001b[0;36mFigureCanvasBase._switch_canvas_and_return_print_method.<locals>.<lambda>\u001b[0;34m(*args, **kwargs)\u001b[0m\n\u001b[1;32m   2039\u001b[0m     optional_kws \u001b[38;5;241m=\u001b[39m {  \u001b[38;5;66;03m# Passed by print_figure for other renderers.\u001b[39;00m\n\u001b[1;32m   2040\u001b[0m         \u001b[38;5;124m\"\u001b[39m\u001b[38;5;124mdpi\u001b[39m\u001b[38;5;124m\"\u001b[39m, \u001b[38;5;124m\"\u001b[39m\u001b[38;5;124mfacecolor\u001b[39m\u001b[38;5;124m\"\u001b[39m, \u001b[38;5;124m\"\u001b[39m\u001b[38;5;124medgecolor\u001b[39m\u001b[38;5;124m\"\u001b[39m, \u001b[38;5;124m\"\u001b[39m\u001b[38;5;124morientation\u001b[39m\u001b[38;5;124m\"\u001b[39m,\n\u001b[1;32m   2041\u001b[0m         \u001b[38;5;124m\"\u001b[39m\u001b[38;5;124mbbox_inches_restore\u001b[39m\u001b[38;5;124m\"\u001b[39m}\n\u001b[1;32m   2042\u001b[0m     skip \u001b[38;5;241m=\u001b[39m optional_kws \u001b[38;5;241m-\u001b[39m {\u001b[38;5;241m*\u001b[39minspect\u001b[38;5;241m.\u001b[39msignature(meth)\u001b[38;5;241m.\u001b[39mparameters}\n\u001b[0;32m-> 2043\u001b[0m     print_method \u001b[38;5;241m=\u001b[39m functools\u001b[38;5;241m.\u001b[39mwraps(meth)(\u001b[38;5;28;01mlambda\u001b[39;00m \u001b[38;5;241m*\u001b[39margs, \u001b[38;5;241m*\u001b[39m\u001b[38;5;241m*\u001b[39mkwargs: \u001b[43mmeth\u001b[49m\u001b[43m(\u001b[49m\n\u001b[1;32m   2044\u001b[0m \u001b[43m        \u001b[49m\u001b[38;5;241;43m*\u001b[39;49m\u001b[43margs\u001b[49m\u001b[43m,\u001b[49m\u001b[43m \u001b[49m\u001b[38;5;241;43m*\u001b[39;49m\u001b[38;5;241;43m*\u001b[39;49m\u001b[43m{\u001b[49m\u001b[43mk\u001b[49m\u001b[43m:\u001b[49m\u001b[43m \u001b[49m\u001b[43mv\u001b[49m\u001b[43m \u001b[49m\u001b[38;5;28;43;01mfor\u001b[39;49;00m\u001b[43m \u001b[49m\u001b[43mk\u001b[49m\u001b[43m,\u001b[49m\u001b[43m \u001b[49m\u001b[43mv\u001b[49m\u001b[43m \u001b[49m\u001b[38;5;129;43;01min\u001b[39;49;00m\u001b[43m \u001b[49m\u001b[43mkwargs\u001b[49m\u001b[38;5;241;43m.\u001b[39;49m\u001b[43mitems\u001b[49m\u001b[43m(\u001b[49m\u001b[43m)\u001b[49m\u001b[43m \u001b[49m\u001b[38;5;28;43;01mif\u001b[39;49;00m\u001b[43m \u001b[49m\u001b[43mk\u001b[49m\u001b[43m \u001b[49m\u001b[38;5;129;43;01mnot\u001b[39;49;00m\u001b[43m \u001b[49m\u001b[38;5;129;43;01min\u001b[39;49;00m\u001b[43m \u001b[49m\u001b[43mskip\u001b[49m\u001b[43m}\u001b[49m\u001b[43m)\u001b[49m)\n\u001b[1;32m   2045\u001b[0m \u001b[38;5;28;01melse\u001b[39;00m:  \u001b[38;5;66;03m# Let third-parties do as they see fit.\u001b[39;00m\n\u001b[1;32m   2046\u001b[0m     print_method \u001b[38;5;241m=\u001b[39m meth\n",
      "File \u001b[0;32m/work/SarahHvidAndersen#6681/env/lib/python3.12/site-packages/matplotlib/backends/backend_agg.py:514\u001b[0m, in \u001b[0;36mFigureCanvasAgg.print_jpg\u001b[0;34m(self, filename_or_obj, metadata, pil_kwargs)\u001b[0m\n\u001b[1;32m    509\u001b[0m \u001b[38;5;28;01mdef\u001b[39;00m \u001b[38;5;21mprint_jpg\u001b[39m(\u001b[38;5;28mself\u001b[39m, filename_or_obj, \u001b[38;5;241m*\u001b[39m, metadata\u001b[38;5;241m=\u001b[39m\u001b[38;5;28;01mNone\u001b[39;00m, pil_kwargs\u001b[38;5;241m=\u001b[39m\u001b[38;5;28;01mNone\u001b[39;00m):\n\u001b[1;32m    510\u001b[0m     \u001b[38;5;66;03m# savefig() has already applied savefig.facecolor; we now set it to\u001b[39;00m\n\u001b[1;32m    511\u001b[0m     \u001b[38;5;66;03m# white to make imsave() blend semi-transparent figures against an\u001b[39;00m\n\u001b[1;32m    512\u001b[0m     \u001b[38;5;66;03m# assumed white background.\u001b[39;00m\n\u001b[1;32m    513\u001b[0m     \u001b[38;5;28;01mwith\u001b[39;00m mpl\u001b[38;5;241m.\u001b[39mrc_context({\u001b[38;5;124m\"\u001b[39m\u001b[38;5;124msavefig.facecolor\u001b[39m\u001b[38;5;124m\"\u001b[39m: \u001b[38;5;124m\"\u001b[39m\u001b[38;5;124mwhite\u001b[39m\u001b[38;5;124m\"\u001b[39m}):\n\u001b[0;32m--> 514\u001b[0m         \u001b[38;5;28;43mself\u001b[39;49m\u001b[38;5;241;43m.\u001b[39;49m\u001b[43m_print_pil\u001b[49m\u001b[43m(\u001b[49m\u001b[43mfilename_or_obj\u001b[49m\u001b[43m,\u001b[49m\u001b[43m \u001b[49m\u001b[38;5;124;43m\"\u001b[39;49m\u001b[38;5;124;43mjpeg\u001b[39;49m\u001b[38;5;124;43m\"\u001b[39;49m\u001b[43m,\u001b[49m\u001b[43m \u001b[49m\u001b[43mpil_kwargs\u001b[49m\u001b[43m,\u001b[49m\u001b[43m \u001b[49m\u001b[43mmetadata\u001b[49m\u001b[43m)\u001b[49m\n",
      "File \u001b[0;32m/work/SarahHvidAndersen#6681/env/lib/python3.12/site-packages/matplotlib/backends/backend_agg.py:446\u001b[0m, in \u001b[0;36mFigureCanvasAgg._print_pil\u001b[0;34m(self, filename_or_obj, fmt, pil_kwargs, metadata)\u001b[0m\n\u001b[1;32m    441\u001b[0m \u001b[38;5;250m\u001b[39m\u001b[38;5;124;03m\"\"\"\u001b[39;00m\n\u001b[1;32m    442\u001b[0m \u001b[38;5;124;03mDraw the canvas, then save it using `.image.imsave` (to which\u001b[39;00m\n\u001b[1;32m    443\u001b[0m \u001b[38;5;124;03m*pil_kwargs* and *metadata* are forwarded).\u001b[39;00m\n\u001b[1;32m    444\u001b[0m \u001b[38;5;124;03m\"\"\"\u001b[39;00m\n\u001b[1;32m    445\u001b[0m FigureCanvasAgg\u001b[38;5;241m.\u001b[39mdraw(\u001b[38;5;28mself\u001b[39m)\n\u001b[0;32m--> 446\u001b[0m \u001b[43mmpl\u001b[49m\u001b[38;5;241;43m.\u001b[39;49m\u001b[43mimage\u001b[49m\u001b[38;5;241;43m.\u001b[39;49m\u001b[43mimsave\u001b[49m\u001b[43m(\u001b[49m\n\u001b[1;32m    447\u001b[0m \u001b[43m    \u001b[49m\u001b[43mfilename_or_obj\u001b[49m\u001b[43m,\u001b[49m\u001b[43m \u001b[49m\u001b[38;5;28;43mself\u001b[39;49m\u001b[38;5;241;43m.\u001b[39;49m\u001b[43mbuffer_rgba\u001b[49m\u001b[43m(\u001b[49m\u001b[43m)\u001b[49m\u001b[43m,\u001b[49m\u001b[43m \u001b[49m\u001b[38;5;28;43mformat\u001b[39;49m\u001b[38;5;241;43m=\u001b[39;49m\u001b[43mfmt\u001b[49m\u001b[43m,\u001b[49m\u001b[43m \u001b[49m\u001b[43morigin\u001b[49m\u001b[38;5;241;43m=\u001b[39;49m\u001b[38;5;124;43m\"\u001b[39;49m\u001b[38;5;124;43mupper\u001b[39;49m\u001b[38;5;124;43m\"\u001b[39;49m\u001b[43m,\u001b[49m\n\u001b[1;32m    448\u001b[0m \u001b[43m    \u001b[49m\u001b[43mdpi\u001b[49m\u001b[38;5;241;43m=\u001b[39;49m\u001b[38;5;28;43mself\u001b[39;49m\u001b[38;5;241;43m.\u001b[39;49m\u001b[43mfigure\u001b[49m\u001b[38;5;241;43m.\u001b[39;49m\u001b[43mdpi\u001b[49m\u001b[43m,\u001b[49m\u001b[43m \u001b[49m\u001b[43mmetadata\u001b[49m\u001b[38;5;241;43m=\u001b[39;49m\u001b[43mmetadata\u001b[49m\u001b[43m,\u001b[49m\u001b[43m \u001b[49m\u001b[43mpil_kwargs\u001b[49m\u001b[38;5;241;43m=\u001b[39;49m\u001b[43mpil_kwargs\u001b[49m\u001b[43m)\u001b[49m\n",
      "File \u001b[0;32m/work/SarahHvidAndersen#6681/env/lib/python3.12/site-packages/matplotlib/image.py:1656\u001b[0m, in \u001b[0;36mimsave\u001b[0;34m(fname, arr, vmin, vmax, cmap, format, origin, dpi, metadata, pil_kwargs)\u001b[0m\n\u001b[1;32m   1654\u001b[0m pil_kwargs\u001b[38;5;241m.\u001b[39msetdefault(\u001b[38;5;124m\"\u001b[39m\u001b[38;5;124mformat\u001b[39m\u001b[38;5;124m\"\u001b[39m, \u001b[38;5;28mformat\u001b[39m)\n\u001b[1;32m   1655\u001b[0m pil_kwargs\u001b[38;5;241m.\u001b[39msetdefault(\u001b[38;5;124m\"\u001b[39m\u001b[38;5;124mdpi\u001b[39m\u001b[38;5;124m\"\u001b[39m, (dpi, dpi))\n\u001b[0;32m-> 1656\u001b[0m \u001b[43mimage\u001b[49m\u001b[38;5;241;43m.\u001b[39;49m\u001b[43msave\u001b[49m\u001b[43m(\u001b[49m\u001b[43mfname\u001b[49m\u001b[43m,\u001b[49m\u001b[43m \u001b[49m\u001b[38;5;241;43m*\u001b[39;49m\u001b[38;5;241;43m*\u001b[39;49m\u001b[43mpil_kwargs\u001b[49m\u001b[43m)\u001b[49m\n",
      "File \u001b[0;32m/work/SarahHvidAndersen#6681/env/lib/python3.12/site-packages/PIL/Image.py:2456\u001b[0m, in \u001b[0;36mImage.save\u001b[0;34m(self, fp, format, **params)\u001b[0m\n\u001b[1;32m   2454\u001b[0m         fp \u001b[38;5;241m=\u001b[39m builtins\u001b[38;5;241m.\u001b[39mopen(filename, \u001b[38;5;124m\"\u001b[39m\u001b[38;5;124mr+b\u001b[39m\u001b[38;5;124m\"\u001b[39m)\n\u001b[1;32m   2455\u001b[0m     \u001b[38;5;28;01melse\u001b[39;00m:\n\u001b[0;32m-> 2456\u001b[0m         fp \u001b[38;5;241m=\u001b[39m \u001b[43mbuiltins\u001b[49m\u001b[38;5;241;43m.\u001b[39;49m\u001b[43mopen\u001b[49m\u001b[43m(\u001b[49m\u001b[43mfilename\u001b[49m\u001b[43m,\u001b[49m\u001b[43m \u001b[49m\u001b[38;5;124;43m\"\u001b[39;49m\u001b[38;5;124;43mw+b\u001b[39;49m\u001b[38;5;124;43m\"\u001b[39;49m\u001b[43m)\u001b[49m\n\u001b[1;32m   2458\u001b[0m \u001b[38;5;28;01mtry\u001b[39;00m:\n\u001b[1;32m   2459\u001b[0m     save_handler(\u001b[38;5;28mself\u001b[39m, fp, filename)\n",
      "\u001b[0;31mFileNotFoundError\u001b[0m: [Errno 2] No such file or directory: '/work/SarahHvidAndersen#6681/DataScience_project/output/first_evalutation/Dummy_Classifier_confusion_matrix.jpeg'"
     ]
    },
    {
     "data": {
      "image/png": "[encoded data removed]",
      "text/plain": [
       "<Figure size 600x600 with 1 Axes>"
      ]
     },
     "metadata": {},
     "output_type": "display_data"
    }
   ],
   "source": [
    "performances = []  # To store performance results\n",
    "\n",
    "for name, model in trained_models.items():\n",
    "    evaluate_splits(model, model_name=name)"
   ]
  },
  {
   "cell_type": "markdown",
   "metadata": {},
   "source": [
    "verify results:"
   ]
  },
  {
   "cell_type": "code",
   "execution_count": null,
   "metadata": {},
   "outputs": [],
   "source": [
    "# plotting\n",
    "# if df path exists, use, otherwise create from performances\n",
    "\n",
    "def plot_model_splits(performances, metric='f1'):\n",
    "    # Create DataFrame from performances and filter val set\n",
    "    perf_df = pd.DataFrame(performances)\n",
    "    val_perf = perf_df[perf_df['split'] == 'val'].sort_values(by=metric, ascending=False)\n",
    "\n",
    "    # sort the full DataFrame based on the order of the test set performance\n",
    "    perf_df['model'] = pd.Categorical(perf_df['model'], categories=val_perf['model'], ordered=True)\n",
    "    perf_df = perf_df.sort_values('model')\n",
    "\n",
    "    # Set up the plot\n",
    "    sns.set_style('whitegrid')\n",
    "    scatter_plot = sns.scatterplot(data=perf_df, \n",
    "                                   y='model', \n",
    "                                   x=metric, \n",
    "                                   hue='split',\n",
    "                                   style='split', \n",
    "                                   markers={       # Define markers for each split\n",
    "                                       'train': 'o',\n",
    "                                       'val': '^',\n",
    "                                   },\n",
    "                                   palette=['grey', 'darkorange'],\n",
    "                                   alpha=0.8)  # Adjust alpha transparency for all markers\n",
    "\n",
    "    scatter_plot.set_title('Model Performance Comparison')\n",
    "    scatter_plot.set_xlabel(f'{metric.capitalize()} Score')\n",
    "    scatter_plot.set_ylabel('Models')\n",
    "    plt.show()\n",
    "\n",
    "def plot_model_metric(perf_df, metric='f2'):\n",
    "    #perf_df = pd.DataFrame(performances)\n",
    "    \n",
    "    # sort the full DataFrame based on the order of the test set performance\n",
    "    perf_df['model'] = pd.Categorical(perf_df['model'], ordered=True)\n",
    "    #perf_df = perf_df.sort_values('model')\n",
    "\n",
    "    # Set up the plot\n",
    "    sns.set_style('whitegrid')\n",
    "    scatter_plot = sns.scatterplot(data=perf_df, \n",
    "                                   x=metric, \n",
    "                                   y='model',\n",
    "                                   alpha=0.7)\n",
    "\n",
    "    scatter_plot.set_title('Model Performance Comparison')\n",
    "    scatter_plot.set_xlabel(f'{metric.capitalize()} Score')\n",
    "    scatter_plot.set_ylabel('Models')\n",
    "    plt.show()\n",
    "    return perf_df"
   ]
  },
  {
   "cell_type": "markdown",
   "metadata": {},
   "source": [
    "identify best models from baseline:"
   ]
  },
  {
   "cell_type": "code",
   "execution_count": null,
   "metadata": {},
   "outputs": [],
   "source": [
    "# Create DataFrame from performances\n",
    "perf_df = pd.DataFrame(performances)\n",
    "\n",
    "# Filter for test split and sort by F2 score\n",
    "top_models = perf_df[perf_df['split'] == 'val'].sort_values(by='f2', ascending=False).head(8)\n"
   ]
  },
  {
   "cell_type": "code",
   "execution_count": null,
   "metadata": {},
   "outputs": [],
   "source": [
    "# loop over 'top_models' DataFrame and print cr and cm created above\n",
    "for _, row in top_models.iterrows():\n",
    "    model_name = row['model']\n",
    "    # Construct paths based on how files were saved\n",
    "    report_path = f'../output/{model_name}_classification_report.txt'\n",
    "    matrix_path = f'../output/{model_name}_confusion_matrix.jpeg'\n",
    "\n",
    "    # Load and print the classification report\n",
    "    with open(report_path, 'r') as file:\n",
    "        classification_report = file.read()\n",
    "    print(f\"Classification Report for {model_name}:\\n{classification_report}\")\n",
    "\n",
    "    # Display the confusion matrix image\n",
    "    img = mpimg.imread(matrix_path)\n",
    "    plt.figure(figsize=(8, 6))\n",
    "    plt.imshow(img)\n",
    "    plt.axis('off')  # Turn off axis numbers and ticks\n",
    "    plt.title(f\"Confusion Matrix for {model_name}\")\n",
    "    plt.show()\n",
    "\n",
    "    print(f\"Confusion matrix for {model_name} not found at {matrix_path}\")"
   ]
  },
  {
   "cell_type": "markdown",
   "metadata": {},
   "source": [
    "# best models"
   ]
  },
  {
   "cell_type": "code",
   "execution_count": null,
   "metadata": {},
   "outputs": [],
   "source": [
    "def train_and_save(model, X_train, y_train, filename):\n",
    "    \"\"\"Train a model and save it to a specified filename.\"\"\"\n",
    "    model.fit(X_train, y_train)\n",
    "    dump(model, filename)\n",
    "    return model\n",
    "\n",
    "def optimize_threshold(model, X, y, beta=2):\n",
    "    probabilities = model.predict_proba(X)[:, 1]\n",
    "    precision, recall, thresholds = precision_recall_curve(y, probabilities)\n",
    "    f_scores = (1 + beta**2) * (precision * recall) / (beta**2 * precision + recall)\n",
    "    best_idx = np.nanargmax(f_scores)\n",
    "    best_threshold = thresholds[best_idx]\n",
    "    return best_threshold\n",
    "\n",
    "def evaluate_and_save(model, y, predictions, probabilities, best_threshold, model_name, feature_subset):\n",
    "    acc = accuracy_score(y, predictions)\n",
    "    prec = precision_score(y, predictions, zero_division=0)\n",
    "    rec = recall_score(y, predictions, zero_division=0)\n",
    "    f1 = f1_score(y, predictions, zero_division=0)\n",
    "    f2 = (1 + 2**2) * (prec * rec) / ((2**2 * prec + rec))\n",
    "    roc_auc = roc_auc_score(y, probabilities)\n",
    "\n",
    "    # appending results\n",
    "    performances.append({\n",
    "        'model': model_name,\n",
    "        'features': feature_subset,\n",
    "        'threshold': best_threshold, 'accuracy': acc,'precision': prec,'recall': rec,\n",
    "        'f1': f1,'f2': f2,'roc_auc': roc_auc})\n",
    "    \n",
    "    report = classification_report(y, predictions)\n",
    "    cm = confusion_matrix(y, predictions)\n",
    "\n",
    "    # Save the classification report as TXT\n",
    "    report_path = f'../output/final_models/{model_name}_classification_report.txt'\n",
    "    with open(report_path, 'w') as f:\n",
    "        f.write(report)\n",
    "\n",
    "    # Generate and save onfusion matrix as JPEG\n",
    "    fig, ax = plt.subplots(figsize=(5, 5))\n",
    "    sns.heatmap(cm, annot=True, fmt='d', cmap='Blues', ax=ax, cbar=False)\n",
    "    ax.set_title(f'Confusion Matrix for {model_name}')\n",
    "    ax.set_xlabel('Predicted Labels')\n",
    "    ax.set_ylabel('True Labels')\n",
    "    ax.set_xticklabels(['Negative', 'Positive'])\n",
    "    ax.set_yticklabels(['Negative', 'Positive'])\n",
    "    plt.tight_layout()\n",
    "    \n",
    "    matrix_path = f'../output/final_models/{model_name}_confusion_matrix.jpeg'\n",
    "    plt.savefig(matrix_path)\n",
    "    plt.close(fig)\n",
    "    print(f\"Saved confusion matrix for {model_name} at {matrix_path}\")\n",
    "    return\n",
    "\n",
    "def process_model(model, feature_subset, X_train, y_train, X_val, y_val, X_test, y_test, model_name):\n",
    "    # Subset the features for the different datasets\n",
    "    X_train_subset = X_train[feature_subset]\n",
    "    X_val_subset = X_val[feature_subset]\n",
    "    X_test_subset = X_test[feature_subset]\n",
    "\n",
    "    # Train the model\n",
    "    filename = f\"../models/final_models/{model_name}_model.joblib\"\n",
    "    trained_model = train_and_save(model, X_train_subset, y_train, filename)\n",
    "\n",
    "    # Optimize threshold on validation set\n",
    "    best_threshold = optimize_threshold(trained_model, X_val_subset, y_val)\n",
    "\n",
    "    # Apply model to the test set using the optimized threshold\n",
    "    probabilities = trained_model.predict_proba(X_test_subset)[:, 1]\n",
    "    predictions = (probabilities >= best_threshold).astype(int)\n",
    "\n",
    "    # create predictions and save results\n",
    "    evaluate_and_save(trained_model, y_test, predictions, probabilities, best_threshold, model_name, feature_subset)\n",
    "    return"
   ]
  },
  {
   "cell_type": "code",
   "execution_count": null,
   "metadata": {},
   "outputs": [],
   "source": [
    "models = {\n",
    "    'Baseline_RF': RandomForestClassifier(n_estimators=100, random_state=42),\n",
    "\n",
    "    'Tuned_RF': RandomForestClassifier(n_estimators=110, max_depth = 40, min_samples_leaf=1,\n",
    "                                        min_samples_split = 10, random_state=42),\n",
    "\n",
    "    'Baseline_XGB': XGBClassifier(objective='binary:logistic', use_label_encoder=False),\n",
    "\n",
    "    'Tuned_XGB': XGBClassifier(objective='binary:logistic',use_label_encoder=False,\n",
    "                                colsample_bytree=1.0, gamma=0.5,learning_rate=0.3, max_depth=10,\n",
    "                                n_estimators=350, subsample=0.5, eval_metric='logloss') \n",
    "}\n",
    "\n",
    "models_config = {\n",
    "    'Tuned_RF_All_Features': ['Fwd IAT Total', 'Fwd Packet Length Max', 'Bwd Packet Length Mean', 'Bwd Packet Length Std',\n",
    "                              'Bwd Packets Length Total', 'Bwd Packet Length Max', 'Packet Length Max', 'Packet Length Mean',\n",
    "                              'Packet Length Std', 'Packet Length Variance', 'Avg Packet Size', 'Fwd Header Length',\n",
    "                              'Avg Fwd Segment Size', 'Avg Bwd Segment Size'],\n",
    "    'Tuned_RF_Selected_Features': ['Fwd IAT Total', 'Bwd Packet Length Std', 'Bwd Packets Length Total',\n",
    "                                   'Packet Length Mean', 'Avg Packet Size', 'Fwd Header Length', 'Avg Fwd Segment Size',\n",
    "                                   'Avg Bwd Segment Size'],\n",
    "    'Tuned_XGB_Permutation_Features': ['Fwd IAT Total', 'Fwd Packet Length Max', 'Bwd Packet Length Mean', 'Bwd Packet Length Std',\n",
    "                                       'Packet Length Std', 'Avg Packet Size', 'Fwd Header Length'],\n",
    "    'Tuned_XGB_RFECV_Features': ['Fwd IAT Total', 'Fwd Packet Length Max', 'Bwd Packet Length Mean', 'Bwd Packet Length Std',\n",
    "                                 'Bwd Packets Length Total', 'Bwd Packet Length Max', 'Packet Length Max', 'Packet Length Mean',\n",
    "                                 'Packet Length Std', 'Packet Length Variance', 'Avg Packet Size', 'Fwd Header Length', 'Avg Fwd Segment Size']\n",
    "}\n",
    "\n",
    "performances = []\n",
    "\n",
    "# Iterating over configurations\n",
    "for model_name, features in models_config.items():\n",
    "    # Extract the base model name (before the underscore)\n",
    "    base_model_name = '_'.join(model_name.split('_')[:2])\n",
    "    process_model(models[base_model_name], features, X_train, y_train, X_val, y_val, X_test, y_test, model_name)\n"
   ]
  },
  {
   "cell_type": "markdown",
   "metadata": {},
   "source": [
    "# compare model vs test set predictions"
   ]
  },
  {
   "cell_type": "code",
   "execution_count": null,
   "metadata": {},
   "outputs": [],
   "source": [
    "import pandas as pd\n",
    "from joblib import load\n",
    "# load best model, predict\n",
    "# load threshold from eval\n",
    "\n",
    "\n",
    "# Assuming 'top_models' DataFrame contains the paths or identifiers for your models\n",
    "for _, row in top_models.iterrows():\n",
    "    full_model_name = row['model']\n",
    "    # Assuming the model name ends with '_1' and you want to remove this part\n",
    "    model_name = \"_\".join(full_model_name.split('_')[:-1])  # Remove the last part after the last underscore\n",
    "    \n",
    "    model_path = f'../models/{model_name}.joblib'\n",
    "    model = load(model_path)\n",
    "    \n",
    "    # Generate probability predictions\n",
    "    probabilities = model.predict_proba(X_test)[:, 1]\n",
    "    precision, recall, thresholds = precision_recall_curve(y_test, probabilities)\n",
    "    \n",
    "    # Calculate F2 score for each threshold\n",
    "    beta = 2\n",
    "    f_scores = (1 + beta**2) * (precision * recall) / (beta**2 * precision + recall)\n",
    "    f_scores = np.nan_to_num(f_scores)  # Replace NaNs with zeros for safe max index finding\n",
    "    best_idx = np.argmax(f_scores)  # Find index of the maximum F2 score\n",
    "    best_threshold = thresholds[best_idx]  # Best threshold for maximum F2 score\n",
    "\n",
    "    predictions = (probabilities >= best_threshold).astype(int)\n",
    "    # Append predictions to the test DataFrame\n",
    "    test_df[f'pred_{model_name}'] = predictions\n",
    "\n",
    "# Now test_df has new columns for each model's predictions\n"
   ]
  },
  {
   "cell_type": "code",
   "execution_count": null,
   "metadata": {},
   "outputs": [],
   "source": [
    "# Extract model names from the top_models DataFrame assuming the names are stored in a column named 'model'\n",
    "model_names = top_models['model'].tolist()\n",
    "\n",
    "# Filter for cases where the 'Attack' column is 1 and any model predicted 0\n",
    "failed_cases = test_df[(test_df['Attack'] == 1) & (test_df.apply(lambda row: any(row[f'pred_{model_name}'] == 0 for model_name in model_names), axis=1))]\n",
    "\n",
    "# Print the number of failed cases\n",
    "print(f\"Number of failed cases: {len(failed_cases)}\")\n"
   ]
  },
  {
   "cell_type": "code",
   "execution_count": null,
   "metadata": {},
   "outputs": [],
   "source": [
    "# Let's say the true labels column is named 'true_labels'\n",
    "# Display cases where all models failed to predict correctly\n",
    "failed_cases = test_df[test_df.apply(lambda row: all(row[f'pred_{model_name}'] != row['true_labels'] for model_name in top_models['model']), axis=1)]\n",
    "print(failed_cases)\n"
   ]
  },
  {
   "cell_type": "code",
   "execution_count": null,
   "metadata": {},
   "outputs": [],
   "source": [
    "import seaborn as sns\n",
    "import matplotlib.pyplot as plt\n",
    "\n",
    "# Example: Plotting the first few instances where predictions differ\n",
    "subset_df = test_df[test_df['true_labels'] != test_df[f'pred_{top_models.iloc[0][\"model\"]}']].head(10)  # Just an example to grab a few differing predictions\n",
    "sns.barplot(data=subset_df, y='true_labels', x=subset_df.columns[1:], palette='viridis')\n",
    "plt.title('Comparison of Predictions vs. True Labels')\n",
    "plt.show()\n"
   ]
  },
  {
   "cell_type": "code",
   "execution_count": null,
   "metadata": {},
   "outputs": [],
   "source": [
    "# Calculate value counts for the failed cases\n",
    "failed_label_counts = failed_cases['Label'].value_counts()\n",
    "\n",
    "# Calculate value counts for the entire test set\n",
    "overall_label_counts = test_df['Label'].value_counts()\n",
    "\n",
    "# Normalize value counts to compare proportions\n",
    "failed_label_proportions = failed_cases['Label'].value_counts(normalize=True)\n",
    "overall_label_proportions = test_df['Label'].value_counts(normalize=True)\n"
   ]
  },
  {
   "cell_type": "code",
   "execution_count": null,
   "metadata": {},
   "outputs": [],
   "source": [
    "print(\"Failed Case Label Counts:\")\n",
    "print(failed_label_counts)\n",
    "print(\"\\nOverall Test Set Label Counts:\")\n",
    "print(overall_label_counts)\n",
    "\n",
    "print(\"\\nFailed Case Label Proportions:\")\n",
    "print(failed_label_proportions)\n",
    "print(\"\\nOverall Test Set Label Proportions:\")\n",
    "print(overall_label_proportions)\n"
   ]
  }
 ],
 "metadata": {
  "kernelspec": {
   "display_name": "env",
   "language": "python",
   "name": "python3"
  },
  "language_info": {
   "codemirror_mode": {
    "name": "ipython",
    "version": 3
   },
   "file_extension": ".py",
   "mimetype": "text/x-python",
   "name": "python",
   "nbconvert_exporter": "python",
   "pygments_lexer": "ipython3",
   "version": "3.12.3"
  }
 },
 "nbformat": 4,
 "nbformat_minor": 2
}
