{
 "cells": [
  {
   "cell_type": "code",
   "execution_count": 1,
   "metadata": {},
   "outputs": [],
   "source": [
    "import pandas as pd \n",
    "import numpy as np\n",
    "import matplotlib.pyplot as plt\n",
    "import seaborn as sns\n",
    "import os\n",
    "\n",
    "from sklearn.model_selection import train_test_split, StratifiedShuffleSplit"
   ]
  },
  {
   "cell_type": "markdown",
   "metadata": {},
   "source": [
    "create dummy model by just creating a column that predicts eg 1 every time (majority class)\n",
    "downscale the training data, for feasability\n",
    "- then use the correct distribution in real world for testing (and eval i think)\n"
   ]
  },
  {
   "cell_type": "code",
   "execution_count": 19,
   "metadata": {},
   "outputs": [],
   "source": [
    "df1 = pd.read_parquet('/work/SarahHvidAndersen#6681/DataScience_project/data/CIS-IDS2017/Benign-Monday-no-metadata.parquet')\n",
    "df2 = pd.read_parquet('/work/SarahHvidAndersen#6681/DataScience_project/data/CIS-IDS2017/Botnet-Friday-no-metadata.parquet')\n",
    "df3 = pd.read_parquet('/work/SarahHvidAndersen#6681/DataScience_project/data/CIS-IDS2017/Bruteforce-Tuesday-no-metadata.parquet')\n",
    "df4 = pd.read_parquet('/work/SarahHvidAndersen#6681/DataScience_project/data/CIS-IDS2017/DDoS-Friday-no-metadata.parquet')\n",
    "df5 = pd.read_parquet('/work/SarahHvidAndersen#6681/DataScience_project/data/CIS-IDS2017/DoS-Wednesday-no-metadata.parquet')\n",
    "df6 = pd.read_parquet('/work/SarahHvidAndersen#6681/DataScience_project/data/CIS-IDS2017/Infiltration-Thursday-no-metadata.parquet')\n",
    "df7 = pd.read_parquet('/work/SarahHvidAndersen#6681/DataScience_project/data/CIS-IDS2017/Portscan-Friday-no-metadata.parquet')\n",
    "df8 = pd.read_parquet('/work/SarahHvidAndersen#6681/DataScience_project/data/CIS-IDS2017/WebAttacks-Thursday-no-metadata.parquet')\n",
    "\n",
    "df = pd.concat([df1, df2, df3, df4, df5, df6, df7, df8], axis=0, ignore_index=True)"
   ]
  },
  {
   "cell_type": "code",
   "execution_count": 2,
   "metadata": {},
   "outputs": [
    {
     "name": "stdout",
     "output_type": "stream",
     "text": [
      "2231806\n",
      "0 duplicate entries have been found in the dataset\n",
      "\n",
      "2231806\n"
     ]
    },
    {
     "data": {
      "text/plain": [
       "Index(['Protocol', 'Flow Duration', 'Total Fwd Packets',\n",
       "       'Total Backward Packets', 'Fwd Packets Length Total',\n",
       "       'Bwd Packets Length Total', 'Fwd Packet Length Max',\n",
       "       'Fwd Packet Length Min', 'Fwd Packet Length Mean',\n",
       "       'Fwd Packet Length Std', 'Bwd Packet Length Max',\n",
       "       'Bwd Packet Length Min', 'Bwd Packet Length Mean',\n",
       "       'Bwd Packet Length Std', 'Flow Bytes/s', 'Flow Packets/s',\n",
       "       'Flow IAT Mean', 'Flow IAT Std', 'Flow IAT Max', 'Flow IAT Min',\n",
       "       'Fwd IAT Total', 'Fwd IAT Mean', 'Fwd IAT Std', 'Fwd IAT Max',\n",
       "       'Fwd IAT Min', 'Bwd IAT Total', 'Bwd IAT Mean', 'Bwd IAT Std',\n",
       "       'Bwd IAT Max', 'Bwd IAT Min', 'Fwd PSH Flags', 'Bwd PSH Flags',\n",
       "       'Fwd URG Flags', 'Bwd URG Flags', 'Fwd Header Length',\n",
       "       'Bwd Header Length', 'Fwd Packets/s', 'Bwd Packets/s',\n",
       "       'Packet Length Min', 'Packet Length Max', 'Packet Length Mean',\n",
       "       'Packet Length Std', 'Packet Length Variance', 'FIN Flag Count',\n",
       "       'SYN Flag Count', 'RST Flag Count', 'PSH Flag Count', 'ACK Flag Count',\n",
       "       'URG Flag Count', 'CWE Flag Count', 'ECE Flag Count', 'Down/Up Ratio',\n",
       "       'Avg Packet Size', 'Avg Fwd Segment Size', 'Avg Bwd Segment Size',\n",
       "       'Fwd Avg Bytes/Bulk', 'Fwd Avg Packets/Bulk', 'Fwd Avg Bulk Rate',\n",
       "       'Bwd Avg Bytes/Bulk', 'Bwd Avg Packets/Bulk', 'Bwd Avg Bulk Rate',\n",
       "       'Subflow Fwd Packets', 'Subflow Fwd Bytes', 'Subflow Bwd Packets',\n",
       "       'Subflow Bwd Bytes', 'Init Fwd Win Bytes', 'Init Bwd Win Bytes',\n",
       "       'Fwd Act Data Packets', 'Fwd Seg Size Min', 'Active Mean', 'Active Std',\n",
       "       'Active Max', 'Active Min', 'Idle Mean', 'Idle Std', 'Idle Max',\n",
       "       'Idle Min', 'Label'],\n",
       "      dtype='object')"
      ]
     },
     "execution_count": 2,
     "metadata": {},
     "output_type": "execute_result"
    }
   ],
   "source": [
    "df = pd.read_csv('/work/SarahHvidAndersen#6681/DataScience_project/data/CIS-IDS2017.csv')\n",
    "\n",
    "print(len(df))\n",
    "duplicate_count = df.duplicated().sum()\n",
    "print(f\"{duplicate_count} duplicate entries have been found in the dataset\\n\")\n",
    "# Remove duplicates\n",
    "df.drop_duplicates(inplace=True) \n",
    "print(len(df))\n",
    "df.columns"
   ]
  },
  {
   "cell_type": "code",
   "execution_count": 36,
   "metadata": {},
   "outputs": [],
   "source": [
    "df = pd.read_csv('/work/SarahHvidAndersen#6681/DataScience_project/data/CIS-IDS2017.csv')"
   ]
  },
  {
   "cell_type": "code",
   "execution_count": 13,
   "metadata": {},
   "outputs": [
    {
     "data": {
      "text/plain": [
       "Label\n",
       "Benign                        1977318\n",
       "DoS Hulk                       172846\n",
       "DDoS                           128014\n",
       "DoS GoldenEye                   10286\n",
       "FTP-Patator                      5931\n",
       "DoS slowloris                    5385\n",
       "DoS Slowhttptest                 5228\n",
       "SSH-Patator                      3219\n",
       "PortScan                         1956\n",
       "Web Attack � Brute Force         1470\n",
       "Bot                              1437\n",
       "Web Attack � XSS                  652\n",
       "Infiltration                       36\n",
       "Web Attack � Sql Injection         21\n",
       "Heartbleed                         11\n",
       "Name: count, dtype: int64"
      ]
     },
     "execution_count": 13,
     "metadata": {},
     "output_type": "execute_result"
    }
   ],
   "source": [
    "df['Label'].value_counts()"
   ]
  },
  {
   "cell_type": "code",
   "execution_count": 3,
   "metadata": {},
   "outputs": [],
   "source": [
    "df['Attack'] = df['Label'].apply(lambda x: 0 if \"Benign\" in x else 1)"
   ]
  },
  {
   "cell_type": "code",
   "execution_count": 11,
   "metadata": {},
   "outputs": [
    {
     "data": {
      "text/plain": [
       "Label\n",
       "Benign                        1895314\n",
       "DoS Hulk                       172846\n",
       "DDoS                           128014\n",
       "DoS GoldenEye                   10286\n",
       "FTP-Patator                      5931\n",
       "DoS slowloris                    5385\n",
       "DoS Slowhttptest                 5228\n",
       "SSH-Patator                      3219\n",
       "PortScan                         1956\n",
       "Web Attack � Brute Force         1470\n",
       "Bot                              1437\n",
       "Web Attack � XSS                  652\n",
       "Infiltration                       36\n",
       "Web Attack � Sql Injection         21\n",
       "Heartbleed                         11\n",
       "Name: count, dtype: int64"
      ]
     },
     "execution_count": 11,
     "metadata": {},
     "output_type": "execute_result"
    }
   ],
   "source": [
    "df['Label'].value_counts()"
   ]
  },
  {
   "cell_type": "markdown",
   "metadata": {},
   "source": [
    "### Downscaling and splitting the data"
   ]
  },
  {
   "cell_type": "code",
   "execution_count": 32,
   "metadata": {},
   "outputs": [
    {
     "name": "stdout",
     "output_type": "stream",
     "text": [
      "Training Data Size: (60000, 79)\n",
      "Label\n",
      "Benign                        30000\n",
      "DoS Hulk                      14004\n",
      "DDoS                          10233\n",
      "SSH-Patator                    1288\n",
      "DoS GoldenEye                   839\n",
      "PortScan                        782\n",
      "Web Attack � Brute Force        588\n",
      "Bot                             575\n",
      "FTP-Patator                     521\n",
      "DoS slowloris                   445\n",
      "DoS Slowhttptest                436\n",
      "Web Attack � XSS                261\n",
      "Infiltration                     14\n",
      "Web Attack � Sql Injection        9\n",
      "Heartbleed                        5\n",
      "Name: count, dtype: int64\n"
     ]
    }
   ],
   "source": [
    "import pandas as pd\n",
    "from sklearn.model_selection import train_test_split, StratifiedShuffleSplit\n",
    "import pandas as pd\n",
    "from sklearn.model_selection import train_test_split, StratifiedShuffleSplit\n",
    "\n",
    "# Randomly split data into temporary training + holdout set for eval/test\n",
    "temp_train_df, holdout_df = train_test_split(df, test_size=0.6, random_state=42, stratify=df['Label'])\n",
    "import pandas as pd\n",
    "\n",
    "# Assuming temp_train_df is already defined and is the dataset we're downsizing\n",
    "\n",
    "# Step 1: Keep all instances of labels with fewer than 2000 examples\n",
    "rare_labels_df = temp_train_df.groupby('Label').filter(lambda x: len(x) < 2000)\n",
    "\n",
    "# Step 2: Sample 30,000 'Benign' rows\n",
    "benign_df = temp_train_df[temp_train_df['Label'] == 'Benign'].sample(n=30000, random_state=42)\n",
    "\n",
    "# Step 3: Fill out the remaining rows to reach 60,000 total\n",
    "# First, calculate how many rows we still need\n",
    "current_count = len(rare_labels_df) + 30000\n",
    "rows_needed = 60000 - current_count\n",
    "\n",
    "# Get the remaining data to sample from, excluding 'Benign' and rare labels\n",
    "remaining_labels = temp_train_df[~temp_train_df['Label'].isin(rare_labels_df['Label'].unique()) & (temp_train_df['Label'] != 'Benign')]\n",
    "\n",
    "# Sample the needed rows from the remaining data\n",
    "additional_df = remaining_labels.sample(n=rows_needed, random_state=42)\n",
    "\n",
    "# Combine all parts into the final train_df\n",
    "train_df = pd.concat([rare_labels_df, benign_df, additional_df])\n",
    "\n",
    "# Debugging to check counts\n",
    "print(\"Training Data Size:\", train_df.shape)\n",
    "print(train_df['Label'].value_counts())"
   ]
  },
  {
   "cell_type": "code",
   "execution_count": 49,
   "metadata": {},
   "outputs": [
    {
     "name": "stdout",
     "output_type": "stream",
     "text": [
      "Evaluation Data Size: (30000, 79)\n",
      "Label\n",
      "Benign                        25518\n",
      "DoS Hulk                       2304\n",
      "DDoS                           1703\n",
      "DoS GoldenEye                   133\n",
      "FTP-Patator                      74\n",
      "DoS slowloris                    67\n",
      "DoS Slowhttptest                 66\n",
      "SSH-Patator                      34\n",
      "Bot                              30\n",
      "PortScan                         23\n",
      "Web Attack � Brute Force         23\n",
      "Infiltration                     12\n",
      "Web Attack � Sql Injection        6\n",
      "Web Attack � XSS                  5\n",
      "Heartbleed                        2\n",
      "Name: count, dtype: int64\n",
      "Testing Data Size: (30000, 79)\n",
      "Label\n",
      "Benign                        25432\n",
      "DoS Hulk                       2322\n",
      "DDoS                           1732\n",
      "DoS GoldenEye                   139\n",
      "FTP-Patator                      76\n",
      "DoS slowloris                    71\n",
      "DoS Slowhttptest                 68\n",
      "SSH-Patator                      48\n",
      "PortScan                         30\n",
      "Bot                              27\n",
      "Web Attack � Brute Force         22\n",
      "Web Attack � XSS                 13\n",
      "Infiltration                     10\n",
      "Web Attack � Sql Injection        6\n",
      "Heartbleed                        4\n",
      "Name: count, dtype: int64\n"
     ]
    }
   ],
   "source": [
    "from sklearn.model_selection import train_test_split\n",
    "\n",
    "# Assuming 'holdout_df' is the data remaining after splitting off the training set\n",
    "# Determine minimum instances to ensure rare labels are represented\n",
    "min_instances_per_label = 25\n",
    "\n",
    "# Identify rare labels based on your specified minimum instances\n",
    "label_counts = holdout_df['Label'].value_counts()\n",
    "rare_labels = label_counts[label_counts < min_instances_per_label].index.tolist()\n",
    "rare_labels_df = holdout_df[holdout_df['Label'].isin(rare_labels)]\n",
    "\n",
    "# Remove rare labels from the main dataset for stratified sampling\n",
    "remaining_df = holdout_df[~holdout_df['Label'].isin(rare_labels)]\n",
    "\n",
    "# Stratify remaining data into eval and test datasets, and randomly sample to downsize\n",
    "remaining_eval_df, remaining_test_df = train_test_split(remaining_df, test_size=0.5, stratify=remaining_df['Label'], random_state=42)\n",
    "remaining_eval_df = remaining_eval_df.sample(n=29980, random_state=42)\n",
    "remaining_test_df = remaining_test_df.sample(n=29980, random_state=42)\n",
    "\n",
    "# Include rare labels, dividing them approximately evenly between eval and test\n",
    "rare_eval_df = rare_labels_df.sample(frac=0.5, random_state=42)\n",
    "rare_test_df = rare_labels_df.drop(rare_eval_df.index)\n",
    "\n",
    "# Combine and sample to the desired size\n",
    "eval_df = pd.concat([remaining_eval_df, rare_eval_df])\n",
    "test_df = pd.concat([remaining_test_df, rare_test_df])\n",
    "\n",
    "print(\"Evaluation Data Size:\", eval_df.shape)\n",
    "print(eval_df['Label'].value_counts())\n",
    "print(\"Testing Data Size:\", test_df.shape)\n",
    "print(test_df['Label'].value_counts())"
   ]
  },
  {
   "cell_type": "code",
   "execution_count": 57,
   "metadata": {},
   "outputs": [
    {
     "data": {
      "image/png": "[encoded data removed]",
      "text/plain": [
       "<Figure size 1200x800 with 1 Axes>"
      ]
     },
     "metadata": {},
     "output_type": "display_data"
    }
   ],
   "source": [
    "import matplotlib.pyplot as plt\n",
    "import pandas as pd\n",
    "\n",
    "def plot_correct_grouped_stacked_distribution(df_list, df_names):\n",
    "    \"\"\"\n",
    "    Plots a grouped stacked bar chart where each bar represents a dataset and the stacks represent the distribution of classes.\n",
    "    \n",
    "    Parameters:\n",
    "    - df_list: A list of dataframes to plot.\n",
    "    - df_names: A list of names for these dataframes.\n",
    "    \"\"\"\n",
    "    # Prepare data for plotting\n",
    "    data_for_plotting = {}\n",
    "    for df, name in zip(df_list, df_names):\n",
    "        # Normalize label counts to get distribution and convert to dictionary\n",
    "        data_for_plotting[name] = df['Label'].value_counts(normalize=True).sort_index()\n",
    "\n",
    "    # Creating a DataFrame from the dictionary and then transposing it\n",
    "    final_df = pd.DataFrame(data_for_plotting).T\n",
    "    final_df.fillna(0, inplace=True)  # Fill missing values with 0\n",
    "\n",
    "    # Plotting\n",
    "    ax = final_df.plot(kind='bar', stacked=True, figsize=(12, 8), width=0.8)\n",
    "    ax.set_ylabel('Proportion')\n",
    "    ax.set_title('Distribution of Labels Across Datasets')\n",
    "    plt.xticks(rotation=0)  # Keep the labels horizontal for better readability\n",
    "    plt.legend(title='Class Labels', bbox_to_anchor=(1.05, 1), loc='upper left')\n",
    "    plt.show()\n",
    "\n",
    "# Example usage assuming you have dataframes: original_df, train_df, eval_df, test_df\n",
    "plot_correct_grouped_stacked_distribution([df, train_df, eval_df, test_df], ['Original', 'Train', 'Eval', 'Test'])\n"
   ]
  },
  {
   "cell_type": "code",
   "execution_count": 58,
   "metadata": {},
   "outputs": [],
   "source": [
    "train_df.to_csv('/work/SarahHvidAndersen#6681/DataScience_project/data/train_df.csv', index=False)\n",
    "eval_df.to_csv('/work/SarahHvidAndersen#6681/DataScience_project/data/eval_df.csv', index=False)\n",
    "test_df.to_csv('/work/SarahHvidAndersen#6681/DataScience_project/data/test_df.csv', index=False)"
   ]
  }
 ],
 "metadata": {
  "kernelspec": {
   "display_name": "env",
   "language": "python",
   "name": "python3"
  },
  "language_info": {
   "codemirror_mode": {
    "name": "ipython",
    "version": 3
   },
   "file_extension": ".py",
   "mimetype": "text/x-python",
   "name": "python",
   "nbconvert_exporter": "python",
   "pygments_lexer": "ipython3",
   "version": "3.12.2"
  }
 },
 "nbformat": 4,
 "nbformat_minor": 2
}
